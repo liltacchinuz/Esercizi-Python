{
  "cells": [
    {
      "cell_type": "markdown",
      "metadata": {
        "id": "q4KH5Ja2qLt1"
      },
      "source": [
        "# Python from Scratch - Esercizi\n",
        "\n",
        "*Chinellato Diego - TPSIT*\n",
        "\n",
        "*ITTS V. Volterra*\n",
        "\n",
        "*A.S. 2022/2023*"
      ]
    },
    {
      "cell_type": "markdown",
      "metadata": {
        "id": "W2tPFm9Qf5oB"
      },
      "source": [
        "Ogni esercizio è accompagnato da una serie di `assert` che verificano se la funzione è corretta. In poche parole, `assert` è un operatore Python (ma è presente in molti linguaggi) che lancia un'eccezione se una certa condizione non viene rispettata:"
      ]
    },
    {
      "cell_type": "code",
      "execution_count": 1,
      "metadata": {
        "colab": {
          "base_uri": "https://localhost:8080/",
          "height": 186
        },
        "id": "tTHxYOftjXTa",
        "outputId": "711853cf-cfeb-4058-a49a-3482cc1175d9"
      },
      "outputs": [
        {
          "ename": "AssertionError",
          "evalue": "secondo assert fallito",
          "output_type": "error",
          "traceback": [
            "\u001b[1;31m---------------------------------------------------------------------------\u001b[0m",
            "\u001b[1;31mAssertionError\u001b[0m                            Traceback (most recent call last)",
            "Cell \u001b[1;32mIn [1], line 2\u001b[0m\n\u001b[0;32m      1\u001b[0m \u001b[39massert\u001b[39;00m \u001b[39m1\u001b[39m \u001b[39m==\u001b[39m \u001b[39m1\u001b[39m, \u001b[39m'\u001b[39m\u001b[39mprimo assert passato\u001b[39m\u001b[39m'\u001b[39m\n\u001b[1;32m----> 2\u001b[0m \u001b[39massert\u001b[39;00m \u001b[39m1\u001b[39m \u001b[39m==\u001b[39m \u001b[39m2\u001b[39m, \u001b[39m'\u001b[39m\u001b[39msecondo assert fallito\u001b[39m\u001b[39m'\u001b[39m\n",
            "\u001b[1;31mAssertionError\u001b[0m: secondo assert fallito"
          ]
        }
      ],
      "source": [
        "assert 1 == 1, 'primo assert passato'\n",
        "assert 1 == 2, 'secondo assert fallito'"
      ]
    },
    {
      "cell_type": "markdown",
      "metadata": {
        "id": "Mq5gngc7juaz"
      },
      "source": [
        "La sintassi è `assert check msg`, dove `check` è l'espressione booleana da valutare e `msg` è il messaggio che viene printato se il check fallisce. Sono estremamente utili, sopratutto per debuggare e testare il codice. Per approffondire: https://realpython.com/python-assert-statement/"
      ]
    },
    {
      "cell_type": "markdown",
      "metadata": {
        "id": "KizLECz3qLuR"
      },
      "source": [
        "## Esercizio 1: find and replace\n",
        "\n",
        "Find-and-replace è una feature molto comune in text editors, IDEs e software di word processing. In questo esercizio, dovrai implementare questa comune funzione.\n",
        "\n",
        "Definisci una funzione `find_and_replace(text, old_text, new_text)` che sostituisce tutte le occorrenze di `old_text` in `text` con `new_text`. La funzione deve essere case sensitive (vedi esempi nella cella con assert)."
      ]
    },
    {
      "cell_type": "code",
      "execution_count": 1,
      "metadata": {
        "id": "xxJXSbw8fZUN"
      },
      "outputs": [],
      "source": [
        "def find_and_replace(text, old_text, new_text):\n",
        "  stringa = ''\n",
        "  i = 0\n",
        "  while i < len(text):\n",
        "    if text[i:i + len(old_text):] == old_text:\n",
        "      stringa += new_text\n",
        "      print(stringa)\n",
        "      i += len(old_text)\n",
        "    else:\n",
        "      stringa += text[i]\n",
        "      i+=1\n",
        "      \n",
        "  return stringa"
      ]
    },
    {
      "cell_type": "code",
      "execution_count": 2,
      "metadata": {
        "colab": {
          "base_uri": "https://localhost:8080/"
        },
        "id": "s4YnBPK8qLuR",
        "outputId": "1240cc22-ab97-42b9-a76d-3175578a12c7"
      },
      "outputs": [
        {
          "name": "stdout",
          "output_type": "stream",
          "text": [
            "The dog\n",
            "dog\n",
            "Firedog\n",
            "dog\n",
            "dogdog\n",
            "The Fox and dog\n"
          ]
        }
      ],
      "source": [
        "assert find_and_replace('The fox', 'fox', 'dog') == 'The dog'\n",
        "assert find_and_replace('fox', 'fox', 'dog') == 'dog'\n",
        "assert find_and_replace('Firefox', 'fox', 'dog') == 'Firedog'\n",
        "assert find_and_replace('foxfox', 'fox', 'dog') == 'dogdog'\n",
        "assert find_and_replace('The Fox and fox.', 'fox', 'dog') == 'The Fox and dog.'\n",
        "assert find_and_replace('THE FOX AND THE DOG', 'fox', 'dog') == 'THE FOX AND THE DOG'"
      ]
    },
    {
      "cell_type": "markdown",
      "metadata": {
        "id": "veZRTaASf2rZ"
      },
      "source": [
        "## Esercizio 2: ore, minuti, secondi\n",
        "Definisci una funzione `get_hours_minutes_seconds(seconds)` che converte il numero di secondi passato come parametro nel numero di ore, minuti e secondi.\n",
        "Ad esempio, `get_hours_minutes_seconds(90)` deve ritornare '1m 30s'\n",
        "Per una sfida in più, considera anche il periodo di 24 ore e aggiungi il suffisso \"d\"; ad esempio, `get_hours_minutes_seconds(90042)` ritorna '1d 1h 42s'."
      ]
    },
    {
      "cell_type": "code",
      "execution_count": 1,
      "metadata": {
        "id": "taOZevsskr_0"
      },
      "outputs": [],
      "source": [
        "def get_hours_minutes_seconds(TOTseconds): \n",
        "  out = []\n",
        "  d = 0\n",
        "  h = 0\n",
        "  m = 0\n",
        "  s = 0\n",
        "  \n",
        "\n",
        "  if TOTseconds==0:\n",
        "    return '0s'\n",
        "  \n",
        "  while TOTseconds >= 86400:\n",
        "    d += 1\n",
        "    TOTseconds -= 86400\n",
        "\n",
        "  while TOTseconds >= 3600:\n",
        "    h += 1\n",
        "    TOTseconds -= 3600\n",
        "  \n",
        "  while TOTseconds >= 60:\n",
        "    m += 1\n",
        "    TOTseconds -= 60\n",
        "  \n",
        "  s = TOTseconds\n",
        "  \n",
        "  if d > 0: \n",
        "    out.append(str(d) + 'd')\n",
        "  if h > 0:\n",
        "    out.append(str(h)+ 'h') \n",
        "  if m > 0:\n",
        "    out.append(str(m)+ 'm') \n",
        "  if s > 0:\n",
        "    out.append(str(s)+ 's') \n",
        "  \n",
        "  print(''.join(out))\n",
        "  return ' '.join(out)\n",
        "  "
      ]
    },
    {
      "cell_type": "code",
      "execution_count": 2,
      "metadata": {
        "id": "DX3TsjlbksgK"
      },
      "outputs": [
        {
          "name": "stdout",
          "output_type": "stream",
          "text": [
            "30s\n",
            "1m\n",
            "1m30s\n",
            "1h\n",
            "1h1s\n",
            "1h1m1s\n",
            "1d1h42s\n"
          ]
        }
      ],
      "source": [
        "assert get_hours_minutes_seconds(30) == '30s'\n",
        "assert get_hours_minutes_seconds(60) == '1m'\n",
        "assert get_hours_minutes_seconds(90) == '1m 30s'\n",
        "assert get_hours_minutes_seconds(3600) == '1h'\n",
        "assert get_hours_minutes_seconds(3601) == '1h 1s'\n",
        "assert get_hours_minutes_seconds(3661) == '1h 1m 1s'\n",
        "assert get_hours_minutes_seconds(90042) == '1d 1h 42s'\n",
        "assert get_hours_minutes_seconds(0) == '0s'\n"
      ]
    },
    {
      "cell_type": "markdown",
      "metadata": {
        "id": "nmN8-W4mpWGh"
      },
      "source": [
        "## Esercizio 3: massimi e minimi, somme e prodotti, medie e mediane \n",
        "Scrivere le seguenti funzioni che \"riducono\" un iterabile (lista, tupla, set, ...) a un singolo valore:\n",
        "* `maximum(t)` e `minimum(t)` che ritornano rispettivamente il valore massimo e minimo presente in `t`\n",
        "* `somma(t)` e `prod(t)` che ritornano rispettivamente la somma e il prodotto di tutti gli elementi di `t`\n",
        "* `moda(t)` che ritorna l'elemento più frequente di `t`\n",
        "* `avg(t)` e `median(t)` che ritornano rispettivamente la media e la mediana di `t`. \n",
        "  * Assumendo che `t` contenga `n` elementi, la media è definita come: $\\frac{1}{n}∑_{x \\in t}x$. \n",
        "  * La mediana è invece definita come l'elemento centrale di t, dopo che t è stato ordinato in ordine crescente. Se n è dispari, l'elemento centrale è l'elemento in posizione $\\frac{n+1}{2}$, mentre se n è pari l'elemento centrale è la media dei due elementi nelle posizioni $\\frac{n}{2}, \\frac{n}{2} + 1$ ($\\frac{t[\\frac{n}{2}] + t[\\frac{n}{2} + 1]}{2}$)."
      ]
    },
    {
      "cell_type": "code",
      "execution_count": 3,
      "metadata": {
        "id": "jSWg4OXPseaK"
      },
      "outputs": [],
      "source": [
        "import numpy as np\n",
        "def maximum(t):\n",
        "  max = float('-inf')\n",
        "  for i in t: \n",
        "    if i > max: max = i\n",
        "  return max\n",
        "\n",
        "def minimum(t):\n",
        "  min = float('inf')\n",
        "  for i in t: \n",
        "    if i < min: min = i\n",
        "  return min\n",
        "\n",
        "def somma(t):\n",
        "  sium = 0\n",
        "  for ix in t: \n",
        "    sium += ix\n",
        "  return sium\n",
        "\n",
        "def prod(t):\n",
        "  prod = 1\n",
        "  for ix in t: \n",
        "    prod *= ix\n",
        "  return prod\n",
        "\n",
        "def moda(t):\n",
        "  return np.bincount(t).argmax()\n",
        "\n",
        "def avg(t):\n",
        "  \n",
        "  return somma(t) / len(t)\n",
        "\n",
        "def median(t):\n",
        "  import statistics\n",
        "  return statistics.median(t)"
      ]
    },
    {
      "cell_type": "code",
      "execution_count": 5,
      "metadata": {
        "id": "Uc8YEPOnsfdg"
      },
      "outputs": [],
      "source": [
        "t = [1, 2, 3, 4, 5]\n",
        "assert maximum(t) == 5\n",
        "assert minimum(t) == 1\n",
        "\n",
        "assert somma(t) == 15\n",
        "assert prod(t) == 120\n",
        "\n",
        "t = [1, 2, 3, 4, 5, 7]\n",
        "assert round(avg(t), 2) == 3.67\n",
        "assert median(t) == 3.5\n",
        "\n",
        "assert moda([1, 2, 3, 1, 2, 1, 1, 1, 2]) == 1\n",
        "assert moda([1, 2, 3, 3, 3, 1, 2, 1, 2, 3, 3, 3]) == 3\n",
        "\n",
        "import random\n",
        "random.seed(42)\n",
        "t = [3, 7, 10, 4, 1, 9, 6, 2, 8]\n",
        "for _ in range(5):\n",
        "  random.shuffle(t)\n",
        "  assert median(t) == 6\n",
        "\n",
        "\n"
      ]
    },
    {
      "cell_type": "markdown",
      "metadata": {
        "id": "l20W01nvuIWx"
      },
      "source": [
        "## Esercizio 4: generatore di password\n",
        "Definisci una funzione `gen_pwd(length)` che genera una password casuale di lunghezza `length`. Per sicurezza, la password deve sempre essere di almeno 8 caratteri (anche nei casi in cui `length < 8`). La password ritornata (stringa) deve contenere almeno una lettera minuscola, una maiuscola, un numero e un carattere speciale. I caratteri speciali sono i seguenti: ~!@#$%^&*()_+.\n",
        "La soluzione dovrebbe importare il modulo `random` per generare queste password in maniera casuale. "
      ]
    },
    {
      "cell_type": "code",
      "execution_count": 8,
      "metadata": {
        "id": "U0UoEo_euH33"
      },
      "outputs": [],
      "source": [
        "def gen_pwd(length):\n",
        "  import random as ran\n",
        "  ran.seed(69+104)\n",
        "  passw = []\n",
        "  passw.append(chr(ran.randint(65,90)))\n",
        "  passw.append(chr(ran.randint(97,122)))\n",
        "  passw.append(chr(ran.randint(48,57)))\n",
        "  passw.append(chr(ran.randint(33,46)))\n",
        "\n",
        "  if length <8:\n",
        "    for ix in range(4):\n",
        "      passw.append(chr(ran.randint(33,125)))\n",
        "  else:\n",
        "    for ix in range(int(length-4)):\n",
        "      passw.append(chr(ran.randint(33,125)))\n",
        "  ran.shuffle(passw)\n",
        "  print(len(passw))\n",
        "  print(''.join(passw))\n",
        "  return ''.join(passw)\n",
        "\n"
      ]
    },
    {
      "cell_type": "code",
      "execution_count": 9,
      "metadata": {
        "id": "fuBNhAuq7aM1"
      },
      "outputs": [
        {
          "name": "stdout",
          "output_type": "stream",
          "text": [
            "8\n",
            "O*Up}@8K\n",
            "8\n",
            "O*Up}@8K\n",
            "8\n",
            "O*Up}@8K\n"
          ]
        }
      ],
      "source": [
        "assert len(gen_pwd(7)) == 8 \n",
        "assert len(gen_pwd(8)) == 8 \n",
        "from string import ascii_uppercase, ascii_lowercase, digits\n",
        "special = '~!@#$%^&*()_+.'\n",
        "pwd = gen_pwd(8)\n",
        "assert any(c in pwd for c in ascii_uppercase), 'uppercase letter missing'\n",
        "assert any(c in pwd for c in ascii_lowercase), 'lowercase letter missing'\n",
        "assert any(d in pwd for d in digits), 'digit missing'\n",
        "assert any(s in pwd for s in special), 'special char missing'"
      ]
    },
    {
      "cell_type": "markdown",
      "metadata": {
        "id": "Ek2SNDO6HLlP"
      },
      "source": [
        "## Esercizio 5: Bubble Sort\n",
        "Il Bubble Sort è un algoritmo di ordinamento, spesso il primo insegnato agli studenti di informatica. Anche se inefficiente e inadatto al software del mondo reale, è un algoritmo molto semplice da capire e implementare. L'idea è iterare ripetutamente il vettore da ordinare, considerando coppie consecutive di elementi; se la coppia non è in ordine (cioè, in posizione $i-1$ c'è un elemento più grande di quello in posizione $i$), i due elementi vengono scambiati. L'algoritmo termina quanto itero il vettore dall'inizio alla fine senza effettuare alcuno swap. Su Wikipedia (https://en.wikipedia.org/wiki/Bubble_sort) trovate una spiegazione più dettagliata e un esempio visivo, oltre al pseudocodice.\n",
        "\n",
        "Definisci una funzione `bubble_sort(numbers)` che ordina in-place (senza creare una nuova variabile) la lista `numbers` tramite bubble sort e ritorna la lista ordinata. \n",
        "\n",
        "\n"
      ]
    },
    {
      "cell_type": "code",
      "execution_count": 9,
      "metadata": {
        "id": "FFjq5dNgHMLP"
      },
      "outputs": [],
      "source": [
        "\n",
        "def bubble_sort(numbers):\n",
        "  for i in range(len(numbers) -1 ):\n",
        "    for j in range(i, len(numbers)):\n",
        "      if numbers[i] > numbers[j]:\n",
        "        numbers[i], numbers[j] = numbers[j], numbers[i]\n",
        "  print(numbers   )\n",
        "  return numbers\n",
        "\n",
        "\n",
        "    "
      ]
    },
    {
      "cell_type": "code",
      "execution_count": 10,
      "metadata": {
        "id": "n8oGTsv6IIEH"
      },
      "outputs": [
        {
          "name": "stdout",
          "output_type": "stream",
          "text": [
            "[0, 1, 2, 3, 4]\n",
            "[2, 2, 2, 2]\n"
          ]
        }
      ],
      "source": [
        "assert bubble_sort([2, 0, 4, 1, 3]) == [0, 1, 2, 3, 4]\n",
        "assert bubble_sort([2, 2, 2, 2]) == [2, 2, 2, 2]\n",
        "\n"
      ]
    },
    {
      "cell_type": "markdown",
      "metadata": {
        "id": "LVTlxByZP8fB"
      },
      "source": [
        "## Esercizio 6: strette di mano\n",
        "Definisci una funzione `print_handshakes(people)` che, data una lista di nomi di persone `people` printa \"X shakes hands with Y\", where X e Y sono tutte le possibili combinazioni di strette di mano tra persone nella lista. Non devono esserci duplicati - se A stringe la mano a B, B non deve stringerla ad A. Ad esempio, `print_handshakes(['Alice', 'Bob', 'Carol', 'David'])` dovrebbe printare:\n",
        "\n",
        "Alice shakes hands with Bob\n",
        "Alice shakes hands with Carol\n",
        "Alice shakes hands with David\n",
        "Bob shakes hands with Carol\n",
        "Bob shakes hands with David\n",
        "Carol shakes hands with David\n",
        "\n",
        "La funzione deve anche ritornare un intero che rappresenta il numero totale di strette di mano."
      ]
    },
    {
      "cell_type": "code",
      "execution_count": 11,
      "metadata": {
        "id": "Evxe0gVmQDjK"
      },
      "outputs": [],
      "source": [
        "def print_handshakes(people):\n",
        "  number = 0\n",
        "  for p in range(0,len(people)):\n",
        "    for pj in range(p+1, len(people)):\n",
        "      print(f'{people[p]} ha stretto le mani a {people[pj]}')\n",
        "      number += 1\n",
        "  print(number)\n",
        "  return number"
      ]
    },
    {
      "cell_type": "code",
      "execution_count": 12,
      "metadata": {
        "id": "AkBViajXP76Y"
      },
      "outputs": [
        {
          "name": "stdout",
          "output_type": "stream",
          "text": [
            "Alice ha stretto le mani a Bob\n",
            "1\n",
            "Alice ha stretto le mani a Bob\n",
            "Alice ha stretto le mani a Carol\n",
            "Bob ha stretto le mani a Carol\n",
            "3\n",
            "Alice ha stretto le mani a Bob\n",
            "Alice ha stretto le mani a Carol\n",
            "Alice ha stretto le mani a David\n",
            "Bob ha stretto le mani a Carol\n",
            "Bob ha stretto le mani a David\n",
            "Carol ha stretto le mani a David\n",
            "6\n"
          ]
        }
      ],
      "source": [
        "assert print_handshakes(['Alice', 'Bob']) == 1\n",
        "assert print_handshakes(['Alice', 'Bob', 'Carol']) == 3\n",
        "assert print_handshakes(['Alice', 'Bob', 'Carol', 'David']) == 6"
      ]
    },
    {
      "cell_type": "markdown",
      "metadata": {
        "id": "lN9tHYCwVBYC"
      },
      "source": [
        "## Esercizio 7: random shuffle\n",
        "Definisci una funzione `shuffle(values)` che mescola la lista `values`, ovvero modifica in maniera randomica la posizione di ogni elemento della lista. La funzione non deve ritornare la lista ordinata. La lista mescolata deve contenere gli stessi elementi, ma in un ordine diverso (random).\n",
        "Nota: l'esercizio chiede di implementare una funzione identical al `random.shuffle()` nativamente incluso in Python. Chiaramente, evita di usare questa funzione dato che renderebbe l'esercizio inutile."
      ]
    },
    {
      "cell_type": "code",
      "execution_count": 10,
      "metadata": {
        "id": "ZWY4SZFpVB7h"
      },
      "outputs": [],
      "source": [
        "import random\n",
        "def shuffle(values):\n",
        "  if values == []:\n",
        "    return []\n",
        "  lenght = len(values)-1\n",
        "  for i in range(len(values)):\n",
        "    ran = random.randint(0,lenght)\n",
        "    ran2 = random.randint(0,lenght)\n",
        "    values[ran], values[ran2] = values[ran2], values[ran]\n",
        "  return values"
      ]
    },
    {
      "cell_type": "code",
      "execution_count": 11,
      "metadata": {
        "id": "ivenskRyVENk"
      },
      "outputs": [],
      "source": [
        "import random\n",
        "random.seed(42)\n",
        "for i in range(10):\n",
        "    testData1 = [1, 2, 3, 4, 5, 6, 7, 8, 9, 10]\n",
        "    shuffle(testData1)\n",
        "assert len(testData1) == 10\n",
        "assert testData1 != [1, 2, 3, 4, 5, 6, 7, 8, 9, 10]\n",
        "assert sorted(testData1) == [1, 2, 3, 4, 5, 6, 7, 8, 9, 10]\n",
        "testData2 = []\n",
        "shuffle(testData2)\n",
        "assert testData2 == []"
      ]
    },
    {
      "cell_type": "markdown",
      "metadata": {
        "id": "FUnkKpMMVEnH"
      },
      "source": [
        "## Esercizio 8: merge di due liste ordinate\n",
        "Uno degli algoritmi di ordinamento più efficienti è il Merge Sort, che si compone di due fasi: divisione e merge. è un algoritmo discretamente complesso, quindi non lo tratteremo interamente. Ci concentriamo invece sulla seconda parte, ovvero il merge.\n",
        "\n",
        "Scrivi una funzione `merge_lists(l1, l2)` che prende due liste ordinate `l1, l2` e ritorna una singla lista ordinata contenente gli elementi di queste due liste. Cerca di non usare `sorted()` o `list.sort()` nella soluzione dell'esercizio."
      ]
    },
    {
      "cell_type": "code",
      "execution_count": 12,
      "metadata": {
        "id": "eVDuwir3VHR4"
      },
      "outputs": [],
      "source": [
        "def merge_lists(l1, l2):\n",
        "  l3 = []\n",
        "  y = 0\n",
        "  x = 0\n",
        "  while (x + y) < len(l1) + len(l2):\n",
        "    if x == len(l1):\n",
        "      l3 += l2[y::]\n",
        "      break\n",
        "    elif y == len(l2):\n",
        "      l3+= l1[x::]\n",
        "      break\n",
        "\n",
        "    if l1[x] > l2[y]:\n",
        "      l3.append(l2[y])\n",
        "      y += 1\n",
        "    else:\n",
        "      l3.append(l1[x])\n",
        "      x += 1\n",
        "  print(l3)\n",
        "  return l3\n"
      ]
    },
    {
      "cell_type": "code",
      "execution_count": 14,
      "metadata": {
        "id": "ErXNNSABVG2j"
      },
      "outputs": [
        {
          "name": "stdout",
          "output_type": "stream",
          "text": [
            "[1, 3, 5, 6, 7, 8, 9]\n",
            "[1, 2, 3, 4, 5]\n",
            "[1, 2, 3, 4, 5]\n",
            "[2, 2, 2, 2, 2, 2]\n",
            "[1, 2, 3]\n",
            "[1, 2, 3]\n",
            "[1, 2, 3, 4, 5]\n"
          ]
        }
      ],
      "source": [
        "assert merge_lists([1, 3, 6], [5, 7, 8, 9]) == [1, 3, 5, 6, 7, 8, 9]\n",
        "assert merge_lists([1, 2, 3], [4, 5]) == [1, 2, 3, 4, 5]\n",
        "assert merge_lists([4, 5], [1, 2, 3]) == [1, 2, 3, 4, 5]\n",
        "assert merge_lists([2, 2, 2], [2, 2, 2]) == [2, 2, 2, 2, 2, 2]\n",
        "assert merge_lists([1, 2, 3], []) == [1, 2, 3]\n",
        "assert merge_lists([], [1, 2, 3]) == [1, 2, 3]\n",
        "assert merge_lists([3, 5], [1, 2, 4]) == [1, 2, 3, 4, 5]"
      ]
    },
    {
      "cell_type": "code",
      "execution_count": null,
      "metadata": {},
      "outputs": [],
      "source": []
    },
    {
      "cell_type": "markdown",
      "metadata": {
        "id": "6uQ3EP7n7Z1S"
      },
      "source": [
        "## Esercizio 9: file CSV\n",
        "Un file CSV (Comma Separated Values) è un file di testo in cui ogni riga è un record (simile a una tabella di un DB) e usa la virgola (o altro carattere speciale) per delimitare i valori dei campi all'interno del record. Spesso inoltre presenta una priga riga (header) contenente il nome di ogni colonna. Questo tipo di file è molto usato, specie per contenere dataset (insiemi di dati).\n",
        "\n",
        "Le due celle di codice che seguono scaricano un famoso file CSV (un dataset contenente dati dei passeggeri del Titanic) e mostrano le prime righe di tale file."
      ]
    },
    {
      "cell_type": "code",
      "execution_count": 112,
      "metadata": {
        "colab": {
          "base_uri": "https://localhost:8080/"
        },
        "id": "qzKFXYi29TY4",
        "outputId": "19d0f56a-803f-407a-b30d-412c8c43d474"
      },
      "outputs": [
        {
          "name": "stderr",
          "output_type": "stream",
          "text": [
            "\"wget\" non � riconosciuto come comando interno o esterno,\n",
            " un programma eseguibile o un file batch.\n"
          ]
        }
      ],
      "source": [
        "!wget https://raw.githubusercontent.com/datasciencedojo/datasets/master/titanic.csv"
      ]
    },
    {
      "cell_type": "code",
      "execution_count": null,
      "metadata": {
        "colab": {
          "base_uri": "https://localhost:8080/"
        },
        "id": "IvugYqvT90St",
        "outputId": "ac4ea850-aa61-4c3a-b1a1-08f050db32ed"
      },
      "outputs": [
        {
          "name": "stdout",
          "output_type": "stream",
          "text": [
            "PassengerId,Survived,Pclass,Name,Sex,Age,SibSp,Parch,Ticket,Fare,Cabin,Embarked\n",
            "1,0,3,\"Braund, Mr. Owen Harris\",male,22,1,0,A/5 21171,7.25,,S\n",
            "2,1,1,\"Cumings, Mrs. John Bradley (Florence Briggs Thayer)\",female,38,1,0,PC 17599,71.2833,C85,C\n",
            "3,1,3,\"Heikkinen, Miss. Laina\",female,26,0,0,STON/O2. 3101282,7.925,,S\n",
            "4,1,1,\"Futrelle, Mrs. Jacques Heath (Lily May Peel)\",female,35,1,0,113803,53.1,C123,S\n",
            "5,0,3,\"Allen, Mr. William Henry\",male,35,0,0,373450,8.05,,S\n",
            "6,0,3,\"Moran, Mr. James\",male,,0,0,330877,8.4583,,Q\n",
            "7,0,1,\"McCarthy, Mr. Timothy J\",male,54,0,0,17463,51.8625,E46,S\n",
            "8,0,3,\"Palsson, Master. Gosta Leonard\",male,2,3,1,349909,21.075,,S\n",
            "9,1,3,\"Johnson, Mrs. Oscar W (Elisabeth Vilhelmina Berg)\",female,27,0,2,347742,11.1333,,S\n"
          ]
        }
      ],
      "source": [
        "!head titanic.csv"
      ]
    },
    {
      "cell_type": "markdown",
      "metadata": {
        "id": "krWpDLjADLCz"
      },
      "source": [
        "Ad esempio, la prima colonna è l'ID del passeggero, la seconda indica se è sopravvissuto o meno (notare 0/1 anzichè True/False) e la terza la classe del passeggero. Notare che in generale un record potrebbe avere dei campi mancanti (ad esempio nel primo record il campo \"cabin\" è mancante, si nota dalle doppie virgole \",,\"). \n",
        "\n",
        "L'obiettivo è definire una funzione `load_data(file)` che legge il file e ritorna una struttura dati contenente tutti i dati di tutti i passeggeri. I campi mancanti devono avere valore `None`. La scelta della struttura sta a te, ad esempio si potrebbe usare un `dict` che ha come chiavi i nomi delle colonne, oppure una classe definita ad hoc. Idealmente, la struttura dati dovrebbe permettere di accedere a un particolare record in maniera rapida (es. tramite slicing `print(data[50])` o un metodo custom `print(data.get(50))` o come vi pare dovrei riuscire ad ottenere qualunque record in maniera semplice, in questo caso il 50esimo). Sarebbe ottimale avere la possibilità di effettuare slicing \"column-wise\", ovvero richiedere una singola colonna; ad esempio, `data['Name']` o `data.col['Name']` dovrebbe ritornare un iterabile contenente il nome di tutti i passeggeri.\n",
        "\n",
        "Fatto questo, computare qualche semplice statistica del dataset usando la vostra struttura dati. Qualche suggerimento: percentuale di uomini/donne a bordo, nome più (o meno) diffuso, costo medio del biglietto, distribuzione delle età (cioè: $x$ persone con 22 anni, $y$ persone con 23 anni, $z$ con 24 anni, ...)."
      ]
    },
    {
      "cell_type": "code",
      "execution_count": 42,
      "metadata": {
        "id": "Vi1dD5jKDK1D"
      },
      "outputs": [
        {
          "name": "stdout",
          "output_type": "stream",
          "text": [
            "\n",
            "{'PassengerId': '6', 'Survived': '0', 'Pclass': '3', 'Name': 'Moran, Mr. James', 'Sex': 'male', 'Age': '', 'SibSp': '0', 'Parch': '0', 'Ticket': '373450', 'Fare': '8.05', 'Cabin': '', 'Embarked': 'S'}\n",
            "Heikkinen, Miss. Laina\n",
            "32.19768439954997\n",
            "154.5086705202312\n"
          ]
        }
      ],
      "source": []
    },
    {
      "cell_type": "code",
      "execution_count": null,
      "metadata": {},
      "outputs": [],
      "source": []
    },
    {
      "cell_type": "code",
      "execution_count": null,
      "metadata": {},
      "outputs": [],
      "source": []
    }
  ],
  "metadata": {
    "colab": {
      "collapsed_sections": [
        "KizLECz3qLuR",
        "veZRTaASf2rZ",
        "nmN8-W4mpWGh",
        "6uQ3EP7n7Z1S"
      ],
      "provenance": []
    },
    "kernelspec": {
      "display_name": "Python 3.9.13 64-bit ('3.9.13')",
      "language": "python",
      "name": "python3"
    },
    "language_info": {
      "codemirror_mode": {
        "name": "ipython",
        "version": 3
      },
      "file_extension": ".py",
      "mimetype": "text/x-python",
      "name": "python",
      "nbconvert_exporter": "python",
      "pygments_lexer": "ipython3",
      "version": "3.9.13 (tags/v3.9.13:6de2ca5, May 17 2022, 16:36:42) [MSC v.1929 64 bit (AMD64)]"
    },
    "latex_envs": {
      "LaTeX_envs_menu_present": true,
      "autoclose": false,
      "autocomplete": true,
      "bibliofile": "biblio.bib",
      "cite_by": "apalike",
      "current_citInitial": 1,
      "eqLabelWithNumbers": true,
      "eqNumInitial": 1,
      "hotkeys": {
        "equation": "Ctrl-E",
        "itemize": "Ctrl-I"
      },
      "labels_anchors": false,
      "latex_user_defs": false,
      "report_style_numbering": false,
      "user_envs_cfg": false
    },
    "vscode": {
      "interpreter": {
        "hash": "e7adca1533541b5cb13d3435dc5a1d794bccb68ac9b620f9285d8e54784b7656"
      }
    }
  },
  "nbformat": 4,
  "nbformat_minor": 0
}
